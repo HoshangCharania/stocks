{
 "cells": [
  {
   "cell_type": "code",
   "execution_count": 1,
   "metadata": {
    "collapsed": true
   },
   "outputs": [],
   "source": [
    "import pandas as pd\n",
    "import argparse\n",
    "import numpy as np\n",
    "from influxdb import InfluxDBClient\n",
    "stocks = pd.read_csv(\"data_stock_50.csv\", index_col=0);"
   ]
  },
  {
   "cell_type": "code",
   "execution_count": 2,
   "metadata": {},
   "outputs": [
    {
     "data": {
      "text/html": [
       "<div>\n",
       "<style>\n",
       "    .dataframe thead tr:only-child th {\n",
       "        text-align: right;\n",
       "    }\n",
       "\n",
       "    .dataframe thead th {\n",
       "        text-align: left;\n",
       "    }\n",
       "\n",
       "    .dataframe tbody tr th {\n",
       "        vertical-align: top;\n",
       "    }\n",
       "</style>\n",
       "<table border=\"1\" class=\"dataframe\">\n",
       "  <thead>\n",
       "    <tr style=\"text-align: right;\">\n",
       "      <th></th>\n",
       "      <th>ticker</th>\n",
       "      <th>date</th>\n",
       "      <th>open</th>\n",
       "      <th>high</th>\n",
       "      <th>low</th>\n",
       "      <th>close</th>\n",
       "      <th>volume</th>\n",
       "      <th>ex-dividend</th>\n",
       "      <th>split_ratio</th>\n",
       "      <th>adj_open</th>\n",
       "      <th>adj_high</th>\n",
       "      <th>adj_low</th>\n",
       "      <th>adj_close</th>\n",
       "      <th>adj_volume</th>\n",
       "    </tr>\n",
       "  </thead>\n",
       "  <tbody>\n",
       "    <tr>\n",
       "      <th>1</th>\n",
       "      <td>AAPL</td>\n",
       "      <td>1980-12-12</td>\n",
       "      <td>28.75</td>\n",
       "      <td>28.87</td>\n",
       "      <td>28.75</td>\n",
       "      <td>28.75</td>\n",
       "      <td>2093900.0</td>\n",
       "      <td>0.0</td>\n",
       "      <td>1.0</td>\n",
       "      <td>0.422706</td>\n",
       "      <td>0.424470</td>\n",
       "      <td>0.422706</td>\n",
       "      <td>0.422706</td>\n",
       "      <td>117258400.0</td>\n",
       "    </tr>\n",
       "    <tr>\n",
       "      <th>2</th>\n",
       "      <td>AAPL</td>\n",
       "      <td>1980-12-15</td>\n",
       "      <td>27.38</td>\n",
       "      <td>27.38</td>\n",
       "      <td>27.25</td>\n",
       "      <td>27.25</td>\n",
       "      <td>785200.0</td>\n",
       "      <td>0.0</td>\n",
       "      <td>1.0</td>\n",
       "      <td>0.402563</td>\n",
       "      <td>0.402563</td>\n",
       "      <td>0.400652</td>\n",
       "      <td>0.400652</td>\n",
       "      <td>43971200.0</td>\n",
       "    </tr>\n",
       "    <tr>\n",
       "      <th>3</th>\n",
       "      <td>AAPL</td>\n",
       "      <td>1980-12-16</td>\n",
       "      <td>25.37</td>\n",
       "      <td>25.37</td>\n",
       "      <td>25.25</td>\n",
       "      <td>25.25</td>\n",
       "      <td>472000.0</td>\n",
       "      <td>0.0</td>\n",
       "      <td>1.0</td>\n",
       "      <td>0.373010</td>\n",
       "      <td>0.373010</td>\n",
       "      <td>0.371246</td>\n",
       "      <td>0.371246</td>\n",
       "      <td>26432000.0</td>\n",
       "    </tr>\n",
       "    <tr>\n",
       "      <th>4</th>\n",
       "      <td>AAPL</td>\n",
       "      <td>1980-12-17</td>\n",
       "      <td>25.87</td>\n",
       "      <td>26.00</td>\n",
       "      <td>25.87</td>\n",
       "      <td>25.87</td>\n",
       "      <td>385900.0</td>\n",
       "      <td>0.0</td>\n",
       "      <td>1.0</td>\n",
       "      <td>0.380362</td>\n",
       "      <td>0.382273</td>\n",
       "      <td>0.380362</td>\n",
       "      <td>0.380362</td>\n",
       "      <td>21610400.0</td>\n",
       "    </tr>\n",
       "    <tr>\n",
       "      <th>5</th>\n",
       "      <td>AAPL</td>\n",
       "      <td>1980-12-18</td>\n",
       "      <td>26.63</td>\n",
       "      <td>26.75</td>\n",
       "      <td>26.63</td>\n",
       "      <td>26.63</td>\n",
       "      <td>327900.0</td>\n",
       "      <td>0.0</td>\n",
       "      <td>1.0</td>\n",
       "      <td>0.391536</td>\n",
       "      <td>0.393300</td>\n",
       "      <td>0.391536</td>\n",
       "      <td>0.391536</td>\n",
       "      <td>18362400.0</td>\n",
       "    </tr>\n",
       "  </tbody>\n",
       "</table>\n",
       "</div>"
      ],
      "text/plain": [
       "  ticker        date   open   high    low  close     volume  ex-dividend  \\\n",
       "1   AAPL  1980-12-12  28.75  28.87  28.75  28.75  2093900.0          0.0   \n",
       "2   AAPL  1980-12-15  27.38  27.38  27.25  27.25   785200.0          0.0   \n",
       "3   AAPL  1980-12-16  25.37  25.37  25.25  25.25   472000.0          0.0   \n",
       "4   AAPL  1980-12-17  25.87  26.00  25.87  25.87   385900.0          0.0   \n",
       "5   AAPL  1980-12-18  26.63  26.75  26.63  26.63   327900.0          0.0   \n",
       "\n",
       "   split_ratio  adj_open  adj_high   adj_low  adj_close   adj_volume  \n",
       "1          1.0  0.422706  0.424470  0.422706   0.422706  117258400.0  \n",
       "2          1.0  0.402563  0.402563  0.400652   0.400652   43971200.0  \n",
       "3          1.0  0.373010  0.373010  0.371246   0.371246   26432000.0  \n",
       "4          1.0  0.380362  0.382273  0.380362   0.380362   21610400.0  \n",
       "5          1.0  0.391536  0.393300  0.391536   0.391536   18362400.0  "
      ]
     },
     "execution_count": 2,
     "metadata": {},
     "output_type": "execute_result"
    }
   ],
   "source": [
    "stocks.head()"
   ]
  },
  {
   "cell_type": "code",
   "execution_count": 3,
   "metadata": {},
   "outputs": [
    {
     "data": {
      "text/plain": [
       "array(['ticker', 'date', 'open', 'high', 'low', 'close', 'volume',\n",
       "       'ex-dividend', 'split_ratio', 'adj_open', 'adj_high', 'adj_low',\n",
       "       'adj_close', 'adj_volume'], dtype=object)"
      ]
     },
     "execution_count": 3,
     "metadata": {},
     "output_type": "execute_result"
    }
   ],
   "source": [
    "stocks.columns.values"
   ]
  },
  {
   "cell_type": "code",
   "execution_count": 4,
   "metadata": {
    "collapsed": true
   },
   "outputs": [],
   "source": [
    "dF= stocks[['ticker', 'date', 'open', 'high', 'low', 'close', 'volume']]"
   ]
  },
  {
   "cell_type": "code",
   "execution_count": 5,
   "metadata": {},
   "outputs": [
    {
     "data": {
      "text/html": [
       "<div>\n",
       "<style>\n",
       "    .dataframe thead tr:only-child th {\n",
       "        text-align: right;\n",
       "    }\n",
       "\n",
       "    .dataframe thead th {\n",
       "        text-align: left;\n",
       "    }\n",
       "\n",
       "    .dataframe tbody tr th {\n",
       "        vertical-align: top;\n",
       "    }\n",
       "</style>\n",
       "<table border=\"1\" class=\"dataframe\">\n",
       "  <thead>\n",
       "    <tr style=\"text-align: right;\">\n",
       "      <th></th>\n",
       "      <th>ticker</th>\n",
       "      <th>date</th>\n",
       "      <th>open</th>\n",
       "      <th>high</th>\n",
       "      <th>low</th>\n",
       "      <th>close</th>\n",
       "      <th>volume</th>\n",
       "    </tr>\n",
       "  </thead>\n",
       "  <tbody>\n",
       "    <tr>\n",
       "      <th>1</th>\n",
       "      <td>AAPL</td>\n",
       "      <td>1980-12-12</td>\n",
       "      <td>28.75</td>\n",
       "      <td>28.87</td>\n",
       "      <td>28.75</td>\n",
       "      <td>28.75</td>\n",
       "      <td>2093900.0</td>\n",
       "    </tr>\n",
       "    <tr>\n",
       "      <th>2</th>\n",
       "      <td>AAPL</td>\n",
       "      <td>1980-12-15</td>\n",
       "      <td>27.38</td>\n",
       "      <td>27.38</td>\n",
       "      <td>27.25</td>\n",
       "      <td>27.25</td>\n",
       "      <td>785200.0</td>\n",
       "    </tr>\n",
       "    <tr>\n",
       "      <th>3</th>\n",
       "      <td>AAPL</td>\n",
       "      <td>1980-12-16</td>\n",
       "      <td>25.37</td>\n",
       "      <td>25.37</td>\n",
       "      <td>25.25</td>\n",
       "      <td>25.25</td>\n",
       "      <td>472000.0</td>\n",
       "    </tr>\n",
       "    <tr>\n",
       "      <th>4</th>\n",
       "      <td>AAPL</td>\n",
       "      <td>1980-12-17</td>\n",
       "      <td>25.87</td>\n",
       "      <td>26.00</td>\n",
       "      <td>25.87</td>\n",
       "      <td>25.87</td>\n",
       "      <td>385900.0</td>\n",
       "    </tr>\n",
       "    <tr>\n",
       "      <th>5</th>\n",
       "      <td>AAPL</td>\n",
       "      <td>1980-12-18</td>\n",
       "      <td>26.63</td>\n",
       "      <td>26.75</td>\n",
       "      <td>26.63</td>\n",
       "      <td>26.63</td>\n",
       "      <td>327900.0</td>\n",
       "    </tr>\n",
       "  </tbody>\n",
       "</table>\n",
       "</div>"
      ],
      "text/plain": [
       "  ticker        date   open   high    low  close     volume\n",
       "1   AAPL  1980-12-12  28.75  28.87  28.75  28.75  2093900.0\n",
       "2   AAPL  1980-12-15  27.38  27.38  27.25  27.25   785200.0\n",
       "3   AAPL  1980-12-16  25.37  25.37  25.25  25.25   472000.0\n",
       "4   AAPL  1980-12-17  25.87  26.00  25.87  25.87   385900.0\n",
       "5   AAPL  1980-12-18  26.63  26.75  26.63  26.63   327900.0"
      ]
     },
     "execution_count": 5,
     "metadata": {},
     "output_type": "execute_result"
    }
   ],
   "source": [
    "dF.head()"
   ]
  },
  {
   "cell_type": "code",
   "execution_count": 6,
   "metadata": {},
   "outputs": [
    {
     "data": {
      "text/plain": [
       "count     397544\n",
       "unique        47\n",
       "top           GE\n",
       "freq       14148\n",
       "Name: ticker, dtype: object"
      ]
     },
     "execution_count": 6,
     "metadata": {},
     "output_type": "execute_result"
    }
   ],
   "source": [
    "dF[\"ticker\"].describe()"
   ]
  },
  {
   "cell_type": "code",
   "execution_count": 7,
   "metadata": {
    "collapsed": true,
    "scrolled": false
   },
   "outputs": [],
   "source": [
    "#user = 'hoshang'\n",
    "#password = 'test'\n",
    "#dbname = 'adbms'\n",
    "#host='localhost' \n",
    "#port=8086\n",
    "## Temporarily avoid line protocol time conversion issues #412, #426, #431.\n",
    "#protocol = 'json'\n",
    "#client = InfluxDBClient(host, port, user, password, dbname)\n",
    "#print(\"Create database: \" + dbname)\n",
    "#client.create_database(dbname)\n",
    "#for i in range(0,len(dF)):\n",
    "    #influx_metric = [{\n",
    "     #   'measurement': 'stocks',\n",
    "     #   'tags': {\n",
    "     #       'ticker': dF[\"ticker\"].iloc[i],\n",
    "     #   },\n",
    "     #   'time': dF[\"date\"].iloc[i],\n",
    "     #   'fields': {\n",
    "     #        'open': dF['open'].iloc[i],\n",
    "     #        'high': dF['high'].iloc[i], \n",
    "     #        'low' : dF['low'].iloc[i],\n",
    "     #        'close': dF['close'].iloc[i],\n",
    "     #        'volume' : dF['volume'].iloc[i],\n",
    "     #   }\n",
    "    #}]\n",
    "    #client.write_points(influx_metric)"
   ]
  },
  {
   "cell_type": "code",
   "execution_count": 8,
   "metadata": {
    "scrolled": true
   },
   "outputs": [
    {
     "data": {
      "text/plain": [
       "count         397544\n",
       "unique         14149\n",
       "top       2017-12-26\n",
       "freq              47\n",
       "Name: date, dtype: object"
      ]
     },
     "execution_count": 8,
     "metadata": {},
     "output_type": "execute_result"
    }
   ],
   "source": [
    "dF[\"date\"].describe()"
   ]
  },
  {
   "cell_type": "code",
   "execution_count": 9,
   "metadata": {},
   "outputs": [
    {
     "name": "stderr",
     "output_type": "stream",
     "text": [
      "/anaconda3/lib/python3.6/site-packages/ipykernel_launcher.py:1: SettingWithCopyWarning: \n",
      "A value is trying to be set on a copy of a slice from a DataFrame.\n",
      "Try using .loc[row_indexer,col_indexer] = value instead\n",
      "\n",
      "See the caveats in the documentation: http://pandas.pydata.org/pandas-docs/stable/indexing.html#indexing-view-versus-copy\n",
      "  \"\"\"Entry point for launching an IPython kernel.\n"
     ]
    }
   ],
   "source": [
    "dF[\"date\"]=pd.to_datetime(dF[\"date\"])"
   ]
  },
  {
   "cell_type": "code",
   "execution_count": 10,
   "metadata": {},
   "outputs": [
    {
     "name": "stderr",
     "output_type": "stream",
     "text": [
      "/anaconda3/lib/python3.6/site-packages/ipykernel_launcher.py:1: SettingWithCopyWarning: \n",
      "A value is trying to be set on a copy of a slice from a DataFrame.\n",
      "Try using .loc[row_indexer,col_indexer] = value instead\n",
      "\n",
      "See the caveats in the documentation: http://pandas.pydata.org/pandas-docs/stable/indexing.html#indexing-view-versus-copy\n",
      "  \"\"\"Entry point for launching an IPython kernel.\n"
     ]
    }
   ],
   "source": [
    "dF[\"year\"]=dF[\"date\"].dt.year"
   ]
  },
  {
   "cell_type": "code",
   "execution_count": 11,
   "metadata": {},
   "outputs": [
    {
     "name": "stderr",
     "output_type": "stream",
     "text": [
      "/anaconda3/lib/python3.6/site-packages/ipykernel_launcher.py:1: SettingWithCopyWarning: \n",
      "A value is trying to be set on a copy of a slice from a DataFrame.\n",
      "Try using .loc[row_indexer,col_indexer] = value instead\n",
      "\n",
      "See the caveats in the documentation: http://pandas.pydata.org/pandas-docs/stable/indexing.html#indexing-view-versus-copy\n",
      "  \"\"\"Entry point for launching an IPython kernel.\n"
     ]
    }
   ],
   "source": [
    "dF[\"month\"]=dF[\"date\"].dt.month"
   ]
  },
  {
   "cell_type": "code",
   "execution_count": 12,
   "metadata": {},
   "outputs": [
    {
     "name": "stderr",
     "output_type": "stream",
     "text": [
      "/anaconda3/lib/python3.6/site-packages/ipykernel_launcher.py:1: SettingWithCopyWarning: \n",
      "A value is trying to be set on a copy of a slice from a DataFrame.\n",
      "Try using .loc[row_indexer,col_indexer] = value instead\n",
      "\n",
      "See the caveats in the documentation: http://pandas.pydata.org/pandas-docs/stable/indexing.html#indexing-view-versus-copy\n",
      "  \"\"\"Entry point for launching an IPython kernel.\n"
     ]
    }
   ],
   "source": [
    "dF[\"day\"]=dF[\"date\"].dt.day"
   ]
  },
  {
   "cell_type": "code",
   "execution_count": 13,
   "metadata": {},
   "outputs": [
    {
     "data": {
      "text/html": [
       "<div>\n",
       "<style>\n",
       "    .dataframe thead tr:only-child th {\n",
       "        text-align: right;\n",
       "    }\n",
       "\n",
       "    .dataframe thead th {\n",
       "        text-align: left;\n",
       "    }\n",
       "\n",
       "    .dataframe tbody tr th {\n",
       "        vertical-align: top;\n",
       "    }\n",
       "</style>\n",
       "<table border=\"1\" class=\"dataframe\">\n",
       "  <thead>\n",
       "    <tr style=\"text-align: right;\">\n",
       "      <th></th>\n",
       "      <th>ticker</th>\n",
       "      <th>date</th>\n",
       "      <th>open</th>\n",
       "      <th>high</th>\n",
       "      <th>low</th>\n",
       "      <th>close</th>\n",
       "      <th>volume</th>\n",
       "      <th>year</th>\n",
       "      <th>month</th>\n",
       "      <th>day</th>\n",
       "    </tr>\n",
       "  </thead>\n",
       "  <tbody>\n",
       "    <tr>\n",
       "      <th>1</th>\n",
       "      <td>AAPL</td>\n",
       "      <td>1980-12-12</td>\n",
       "      <td>28.75</td>\n",
       "      <td>28.87</td>\n",
       "      <td>28.75</td>\n",
       "      <td>28.75</td>\n",
       "      <td>2093900.0</td>\n",
       "      <td>1980</td>\n",
       "      <td>12</td>\n",
       "      <td>12</td>\n",
       "    </tr>\n",
       "    <tr>\n",
       "      <th>2</th>\n",
       "      <td>AAPL</td>\n",
       "      <td>1980-12-15</td>\n",
       "      <td>27.38</td>\n",
       "      <td>27.38</td>\n",
       "      <td>27.25</td>\n",
       "      <td>27.25</td>\n",
       "      <td>785200.0</td>\n",
       "      <td>1980</td>\n",
       "      <td>12</td>\n",
       "      <td>15</td>\n",
       "    </tr>\n",
       "    <tr>\n",
       "      <th>3</th>\n",
       "      <td>AAPL</td>\n",
       "      <td>1980-12-16</td>\n",
       "      <td>25.37</td>\n",
       "      <td>25.37</td>\n",
       "      <td>25.25</td>\n",
       "      <td>25.25</td>\n",
       "      <td>472000.0</td>\n",
       "      <td>1980</td>\n",
       "      <td>12</td>\n",
       "      <td>16</td>\n",
       "    </tr>\n",
       "    <tr>\n",
       "      <th>4</th>\n",
       "      <td>AAPL</td>\n",
       "      <td>1980-12-17</td>\n",
       "      <td>25.87</td>\n",
       "      <td>26.00</td>\n",
       "      <td>25.87</td>\n",
       "      <td>25.87</td>\n",
       "      <td>385900.0</td>\n",
       "      <td>1980</td>\n",
       "      <td>12</td>\n",
       "      <td>17</td>\n",
       "    </tr>\n",
       "    <tr>\n",
       "      <th>5</th>\n",
       "      <td>AAPL</td>\n",
       "      <td>1980-12-18</td>\n",
       "      <td>26.63</td>\n",
       "      <td>26.75</td>\n",
       "      <td>26.63</td>\n",
       "      <td>26.63</td>\n",
       "      <td>327900.0</td>\n",
       "      <td>1980</td>\n",
       "      <td>12</td>\n",
       "      <td>18</td>\n",
       "    </tr>\n",
       "  </tbody>\n",
       "</table>\n",
       "</div>"
      ],
      "text/plain": [
       "  ticker       date   open   high    low  close     volume  year  month  day\n",
       "1   AAPL 1980-12-12  28.75  28.87  28.75  28.75  2093900.0  1980     12   12\n",
       "2   AAPL 1980-12-15  27.38  27.38  27.25  27.25   785200.0  1980     12   15\n",
       "3   AAPL 1980-12-16  25.37  25.37  25.25  25.25   472000.0  1980     12   16\n",
       "4   AAPL 1980-12-17  25.87  26.00  25.87  25.87   385900.0  1980     12   17\n",
       "5   AAPL 1980-12-18  26.63  26.75  26.63  26.63   327900.0  1980     12   18"
      ]
     },
     "execution_count": 13,
     "metadata": {},
     "output_type": "execute_result"
    }
   ],
   "source": [
    "dF.head()"
   ]
  },
  {
   "cell_type": "code",
   "execution_count": 14,
   "metadata": {
    "collapsed": true
   },
   "outputs": [],
   "source": [
    "dF_month=dF.groupby(['year', 'month','ticker']).mean()"
   ]
  },
  {
   "cell_type": "code",
   "execution_count": 15,
   "metadata": {
    "collapsed": true
   },
   "outputs": [],
   "source": [
    "years=list(dF_month.index.levels[0])"
   ]
  },
  {
   "cell_type": "code",
   "execution_count": 16,
   "metadata": {},
   "outputs": [
    {
     "data": {
      "text/plain": [
       "1962"
      ]
     },
     "execution_count": 16,
     "metadata": {},
     "output_type": "execute_result"
    }
   ],
   "source": [
    "years[0]"
   ]
  },
  {
   "cell_type": "code",
   "execution_count": 17,
   "metadata": {
    "collapsed": true
   },
   "outputs": [],
   "source": [
    "#dF_month.index.levels[months]"
   ]
  },
  {
   "cell_type": "code",
   "execution_count": 18,
   "metadata": {},
   "outputs": [
    {
     "data": {
      "text/plain": [
       "pandas.core.frame.DataFrame"
      ]
     },
     "execution_count": 18,
     "metadata": {},
     "output_type": "execute_result"
    }
   ],
   "source": [
    "type(dF_month)"
   ]
  },
  {
   "cell_type": "code",
   "execution_count": 19,
   "metadata": {
    "collapsed": true
   },
   "outputs": [],
   "source": [
    "dF_month=dF_month.reset_index()"
   ]
  },
  {
   "cell_type": "code",
   "execution_count": 20,
   "metadata": {},
   "outputs": [
    {
     "data": {
      "text/html": [
       "<div>\n",
       "<style>\n",
       "    .dataframe thead tr:only-child th {\n",
       "        text-align: right;\n",
       "    }\n",
       "\n",
       "    .dataframe thead th {\n",
       "        text-align: left;\n",
       "    }\n",
       "\n",
       "    .dataframe tbody tr th {\n",
       "        vertical-align: top;\n",
       "    }\n",
       "</style>\n",
       "<table border=\"1\" class=\"dataframe\">\n",
       "  <thead>\n",
       "    <tr style=\"text-align: right;\">\n",
       "      <th></th>\n",
       "      <th>year</th>\n",
       "      <th>month</th>\n",
       "      <th>ticker</th>\n",
       "      <th>open</th>\n",
       "      <th>high</th>\n",
       "      <th>low</th>\n",
       "      <th>close</th>\n",
       "      <th>volume</th>\n",
       "      <th>day</th>\n",
       "    </tr>\n",
       "  </thead>\n",
       "  <tbody>\n",
       "    <tr>\n",
       "      <th>0</th>\n",
       "      <td>1962</td>\n",
       "      <td>1</td>\n",
       "      <td>DIS</td>\n",
       "      <td>37.960455</td>\n",
       "      <td>38.416364</td>\n",
       "      <td>37.574091</td>\n",
       "      <td>37.949091</td>\n",
       "      <td>1825.272727</td>\n",
       "      <td>16.318182</td>\n",
       "    </tr>\n",
       "    <tr>\n",
       "      <th>1</th>\n",
       "      <td>1962</td>\n",
       "      <td>1</td>\n",
       "      <td>GE</td>\n",
       "      <td>72.160455</td>\n",
       "      <td>72.799545</td>\n",
       "      <td>71.353636</td>\n",
       "      <td>72.143182</td>\n",
       "      <td>18163.636364</td>\n",
       "      <td>16.318182</td>\n",
       "    </tr>\n",
       "    <tr>\n",
       "      <th>2</th>\n",
       "      <td>1962</td>\n",
       "      <td>1</td>\n",
       "      <td>IBM</td>\n",
       "      <td>556.159091</td>\n",
       "      <td>559.329545</td>\n",
       "      <td>551.863636</td>\n",
       "      <td>554.034091</td>\n",
       "      <td>19909.090909</td>\n",
       "      <td>16.318182</td>\n",
       "    </tr>\n",
       "    <tr>\n",
       "      <th>3</th>\n",
       "      <td>1962</td>\n",
       "      <td>1</td>\n",
       "      <td>KO</td>\n",
       "      <td>95.397727</td>\n",
       "      <td>96.300909</td>\n",
       "      <td>94.165455</td>\n",
       "      <td>95.114091</td>\n",
       "      <td>27854.545455</td>\n",
       "      <td>16.318182</td>\n",
       "    </tr>\n",
       "    <tr>\n",
       "      <th>4</th>\n",
       "      <td>1962</td>\n",
       "      <td>2</td>\n",
       "      <td>DIS</td>\n",
       "      <td>38.803158</td>\n",
       "      <td>39.145789</td>\n",
       "      <td>38.585789</td>\n",
       "      <td>38.763158</td>\n",
       "      <td>2113.526316</td>\n",
       "      <td>14.315789</td>\n",
       "    </tr>\n",
       "  </tbody>\n",
       "</table>\n",
       "</div>"
      ],
      "text/plain": [
       "   year  month ticker        open        high         low       close  \\\n",
       "0  1962      1    DIS   37.960455   38.416364   37.574091   37.949091   \n",
       "1  1962      1     GE   72.160455   72.799545   71.353636   72.143182   \n",
       "2  1962      1    IBM  556.159091  559.329545  551.863636  554.034091   \n",
       "3  1962      1     KO   95.397727   96.300909   94.165455   95.114091   \n",
       "4  1962      2    DIS   38.803158   39.145789   38.585789   38.763158   \n",
       "\n",
       "         volume        day  \n",
       "0   1825.272727  16.318182  \n",
       "1  18163.636364  16.318182  \n",
       "2  19909.090909  16.318182  \n",
       "3  27854.545455  16.318182  \n",
       "4   2113.526316  14.315789  "
      ]
     },
     "execution_count": 20,
     "metadata": {},
     "output_type": "execute_result"
    }
   ],
   "source": [
    "dF_month.head()"
   ]
  },
  {
   "cell_type": "code",
   "execution_count": 21,
   "metadata": {},
   "outputs": [
    {
     "data": {
      "text/html": [
       "<div>\n",
       "<style>\n",
       "    .dataframe thead tr:only-child th {\n",
       "        text-align: right;\n",
       "    }\n",
       "\n",
       "    .dataframe thead th {\n",
       "        text-align: left;\n",
       "    }\n",
       "\n",
       "    .dataframe tbody tr th {\n",
       "        vertical-align: top;\n",
       "    }\n",
       "</style>\n",
       "<table border=\"1\" class=\"dataframe\">\n",
       "  <thead>\n",
       "    <tr style=\"text-align: right;\">\n",
       "      <th></th>\n",
       "      <th>year</th>\n",
       "      <th>month</th>\n",
       "      <th>ticker</th>\n",
       "      <th>open</th>\n",
       "      <th>high</th>\n",
       "      <th>low</th>\n",
       "      <th>close</th>\n",
       "      <th>volume</th>\n",
       "      <th>day</th>\n",
       "    </tr>\n",
       "  </thead>\n",
       "  <tbody>\n",
       "    <tr>\n",
       "      <th>0</th>\n",
       "      <td>1962</td>\n",
       "      <td>1</td>\n",
       "      <td>DIS</td>\n",
       "      <td>37.960455</td>\n",
       "      <td>38.416364</td>\n",
       "      <td>37.574091</td>\n",
       "      <td>37.949091</td>\n",
       "      <td>1825.272727</td>\n",
       "      <td>16.318182</td>\n",
       "    </tr>\n",
       "    <tr>\n",
       "      <th>1</th>\n",
       "      <td>1962</td>\n",
       "      <td>1</td>\n",
       "      <td>GE</td>\n",
       "      <td>72.160455</td>\n",
       "      <td>72.799545</td>\n",
       "      <td>71.353636</td>\n",
       "      <td>72.143182</td>\n",
       "      <td>18163.636364</td>\n",
       "      <td>16.318182</td>\n",
       "    </tr>\n",
       "    <tr>\n",
       "      <th>2</th>\n",
       "      <td>1962</td>\n",
       "      <td>1</td>\n",
       "      <td>IBM</td>\n",
       "      <td>556.159091</td>\n",
       "      <td>559.329545</td>\n",
       "      <td>551.863636</td>\n",
       "      <td>554.034091</td>\n",
       "      <td>19909.090909</td>\n",
       "      <td>16.318182</td>\n",
       "    </tr>\n",
       "    <tr>\n",
       "      <th>3</th>\n",
       "      <td>1962</td>\n",
       "      <td>1</td>\n",
       "      <td>KO</td>\n",
       "      <td>95.397727</td>\n",
       "      <td>96.300909</td>\n",
       "      <td>94.165455</td>\n",
       "      <td>95.114091</td>\n",
       "      <td>27854.545455</td>\n",
       "      <td>16.318182</td>\n",
       "    </tr>\n",
       "    <tr>\n",
       "      <th>4</th>\n",
       "      <td>1962</td>\n",
       "      <td>2</td>\n",
       "      <td>DIS</td>\n",
       "      <td>38.803158</td>\n",
       "      <td>39.145789</td>\n",
       "      <td>38.585789</td>\n",
       "      <td>38.763158</td>\n",
       "      <td>2113.526316</td>\n",
       "      <td>14.315789</td>\n",
       "    </tr>\n",
       "  </tbody>\n",
       "</table>\n",
       "</div>"
      ],
      "text/plain": [
       "   year  month ticker        open        high         low       close  \\\n",
       "0  1962      1    DIS   37.960455   38.416364   37.574091   37.949091   \n",
       "1  1962      1     GE   72.160455   72.799545   71.353636   72.143182   \n",
       "2  1962      1    IBM  556.159091  559.329545  551.863636  554.034091   \n",
       "3  1962      1     KO   95.397727   96.300909   94.165455   95.114091   \n",
       "4  1962      2    DIS   38.803158   39.145789   38.585789   38.763158   \n",
       "\n",
       "         volume        day  \n",
       "0   1825.272727  16.318182  \n",
       "1  18163.636364  16.318182  \n",
       "2  19909.090909  16.318182  \n",
       "3  27854.545455  16.318182  \n",
       "4   2113.526316  14.315789  "
      ]
     },
     "execution_count": 21,
     "metadata": {},
     "output_type": "execute_result"
    }
   ],
   "source": [
    "dF_month.head()"
   ]
  },
  {
   "cell_type": "code",
   "execution_count": 22,
   "metadata": {},
   "outputs": [
    {
     "data": {
      "text/plain": [
       "'1962-1-31T00:00:00Z'"
      ]
     },
     "execution_count": 22,
     "metadata": {},
     "output_type": "execute_result"
    }
   ],
   "source": [
    "str(dF_month[\"year\"].iloc[0])+\"-\"+str(dF_month[\"month\"].iloc[0])+\"-31\"+\"T00:00:00Z\""
   ]
  },
  {
   "cell_type": "code",
   "execution_count": 23,
   "metadata": {},
   "outputs": [
    {
     "name": "stdout",
     "output_type": "stream",
     "text": [
      "Create database: adbms\n"
     ]
    }
   ],
   "source": [
    "user = 'hoshang'\n",
    "password = 'test'\n",
    "dbname = 'adbms'\n",
    "host='localhost' \n",
    "port=8086\n",
    "# Temporarily avoid line protocol time conversion issues #412, #426, #431.\n",
    "protocol = 'json'\n",
    "client = InfluxDBClient(host, port, user, password, dbname)\n",
    "print(\"Create database: \" + dbname)\n",
    "#send_response(code, message=None) \n",
    "client.create_database(dbname)\n",
    "for i in range(0,len(dF_month)):\n",
    "    influx_metric = [{\n",
    "        'measurement': 'stocks_month',\n",
    "        'tags': {\n",
    "            'ticker': dF_month[\"ticker\"].iloc[i],\n",
    "        },\n",
    "        'time': str(dF_month[\"year\"].iloc[i])+\"-\"+str(dF_month[\"month\"].iloc[i])+\"-28\"+\"T00:00:00Z\",\n",
    "        'fields': {\n",
    "             'open': dF_month['open'].iloc[i],\n",
    "             'high': dF_month['high'].iloc[i], \n",
    "             'low' : dF_month['low'].iloc[i],\n",
    "             'close': dF_month['close'].iloc[i],\n",
    "             'volume' : dF_month['volume'].iloc[i],\n",
    "        }\n",
    "    }]\n",
    "    client.write_points(influx_metric)"
   ]
  },
  {
   "cell_type": "code",
   "execution_count": 24,
   "metadata": {},
   "outputs": [
    {
     "data": {
      "text/html": [
       "<div>\n",
       "<style>\n",
       "    .dataframe thead tr:only-child th {\n",
       "        text-align: right;\n",
       "    }\n",
       "\n",
       "    .dataframe thead th {\n",
       "        text-align: left;\n",
       "    }\n",
       "\n",
       "    .dataframe tbody tr th {\n",
       "        vertical-align: top;\n",
       "    }\n",
       "</style>\n",
       "<table border=\"1\" class=\"dataframe\">\n",
       "  <thead>\n",
       "    <tr style=\"text-align: right;\">\n",
       "      <th></th>\n",
       "      <th>year</th>\n",
       "      <th>month</th>\n",
       "      <th>ticker</th>\n",
       "      <th>open</th>\n",
       "      <th>high</th>\n",
       "      <th>low</th>\n",
       "      <th>close</th>\n",
       "      <th>volume</th>\n",
       "      <th>day</th>\n",
       "    </tr>\n",
       "  </thead>\n",
       "  <tbody>\n",
       "    <tr>\n",
       "      <th>0</th>\n",
       "      <td>1962</td>\n",
       "      <td>1</td>\n",
       "      <td>DIS</td>\n",
       "      <td>37.960455</td>\n",
       "      <td>38.416364</td>\n",
       "      <td>37.574091</td>\n",
       "      <td>37.949091</td>\n",
       "      <td>1825.272727</td>\n",
       "      <td>16.318182</td>\n",
       "    </tr>\n",
       "    <tr>\n",
       "      <th>1</th>\n",
       "      <td>1962</td>\n",
       "      <td>1</td>\n",
       "      <td>GE</td>\n",
       "      <td>72.160455</td>\n",
       "      <td>72.799545</td>\n",
       "      <td>71.353636</td>\n",
       "      <td>72.143182</td>\n",
       "      <td>18163.636364</td>\n",
       "      <td>16.318182</td>\n",
       "    </tr>\n",
       "    <tr>\n",
       "      <th>2</th>\n",
       "      <td>1962</td>\n",
       "      <td>1</td>\n",
       "      <td>IBM</td>\n",
       "      <td>556.159091</td>\n",
       "      <td>559.329545</td>\n",
       "      <td>551.863636</td>\n",
       "      <td>554.034091</td>\n",
       "      <td>19909.090909</td>\n",
       "      <td>16.318182</td>\n",
       "    </tr>\n",
       "    <tr>\n",
       "      <th>3</th>\n",
       "      <td>1962</td>\n",
       "      <td>1</td>\n",
       "      <td>KO</td>\n",
       "      <td>95.397727</td>\n",
       "      <td>96.300909</td>\n",
       "      <td>94.165455</td>\n",
       "      <td>95.114091</td>\n",
       "      <td>27854.545455</td>\n",
       "      <td>16.318182</td>\n",
       "    </tr>\n",
       "    <tr>\n",
       "      <th>4</th>\n",
       "      <td>1962</td>\n",
       "      <td>2</td>\n",
       "      <td>DIS</td>\n",
       "      <td>38.803158</td>\n",
       "      <td>39.145789</td>\n",
       "      <td>38.585789</td>\n",
       "      <td>38.763158</td>\n",
       "      <td>2113.526316</td>\n",
       "      <td>14.315789</td>\n",
       "    </tr>\n",
       "  </tbody>\n",
       "</table>\n",
       "</div>"
      ],
      "text/plain": [
       "   year  month ticker        open        high         low       close  \\\n",
       "0  1962      1    DIS   37.960455   38.416364   37.574091   37.949091   \n",
       "1  1962      1     GE   72.160455   72.799545   71.353636   72.143182   \n",
       "2  1962      1    IBM  556.159091  559.329545  551.863636  554.034091   \n",
       "3  1962      1     KO   95.397727   96.300909   94.165455   95.114091   \n",
       "4  1962      2    DIS   38.803158   39.145789   38.585789   38.763158   \n",
       "\n",
       "         volume        day  \n",
       "0   1825.272727  16.318182  \n",
       "1  18163.636364  16.318182  \n",
       "2  19909.090909  16.318182  \n",
       "3  27854.545455  16.318182  \n",
       "4   2113.526316  14.315789  "
      ]
     },
     "execution_count": 24,
     "metadata": {},
     "output_type": "execute_result"
    }
   ],
   "source": [
    "dF_month.head()"
   ]
  },
  {
   "cell_type": "code",
   "execution_count": 25,
   "metadata": {},
   "outputs": [
    {
     "data": {
      "text/html": [
       "<div>\n",
       "<style>\n",
       "    .dataframe thead tr:only-child th {\n",
       "        text-align: right;\n",
       "    }\n",
       "\n",
       "    .dataframe thead th {\n",
       "        text-align: left;\n",
       "    }\n",
       "\n",
       "    .dataframe tbody tr th {\n",
       "        vertical-align: top;\n",
       "    }\n",
       "</style>\n",
       "<table border=\"1\" class=\"dataframe\">\n",
       "  <thead>\n",
       "    <tr style=\"text-align: right;\">\n",
       "      <th></th>\n",
       "      <th>year</th>\n",
       "      <th>ticker</th>\n",
       "      <th>month</th>\n",
       "      <th>open</th>\n",
       "      <th>high</th>\n",
       "      <th>low</th>\n",
       "      <th>close</th>\n",
       "      <th>volume</th>\n",
       "      <th>day</th>\n",
       "    </tr>\n",
       "  </thead>\n",
       "  <tbody>\n",
       "    <tr>\n",
       "      <th>0</th>\n",
       "      <td>1962</td>\n",
       "      <td>DIS</td>\n",
       "      <td>6.5</td>\n",
       "      <td>31.785422</td>\n",
       "      <td>32.108319</td>\n",
       "      <td>31.448197</td>\n",
       "      <td>31.738924</td>\n",
       "      <td>1525.447956</td>\n",
       "      <td>15.794723</td>\n",
       "    </tr>\n",
       "    <tr>\n",
       "      <th>1</th>\n",
       "      <td>1962</td>\n",
       "      <td>GE</td>\n",
       "      <td>6.5</td>\n",
       "      <td>70.078108</td>\n",
       "      <td>70.686144</td>\n",
       "      <td>69.409325</td>\n",
       "      <td>70.067289</td>\n",
       "      <td>17400.574926</td>\n",
       "      <td>15.794723</td>\n",
       "    </tr>\n",
       "    <tr>\n",
       "      <th>2</th>\n",
       "      <td>1962</td>\n",
       "      <td>IBM</td>\n",
       "      <td>6.5</td>\n",
       "      <td>433.777886</td>\n",
       "      <td>438.173561</td>\n",
       "      <td>429.226148</td>\n",
       "      <td>432.796064</td>\n",
       "      <td>72424.927473</td>\n",
       "      <td>15.794723</td>\n",
       "    </tr>\n",
       "    <tr>\n",
       "      <th>3</th>\n",
       "      <td>1962</td>\n",
       "      <td>KO</td>\n",
       "      <td>6.5</td>\n",
       "      <td>86.729354</td>\n",
       "      <td>87.453027</td>\n",
       "      <td>85.882380</td>\n",
       "      <td>86.628268</td>\n",
       "      <td>28334.460790</td>\n",
       "      <td>15.794723</td>\n",
       "    </tr>\n",
       "    <tr>\n",
       "      <th>4</th>\n",
       "      <td>1963</td>\n",
       "      <td>DIS</td>\n",
       "      <td>6.5</td>\n",
       "      <td>37.965352</td>\n",
       "      <td>38.369597</td>\n",
       "      <td>37.652577</td>\n",
       "      <td>37.983691</td>\n",
       "      <td>2708.405251</td>\n",
       "      <td>15.693402</td>\n",
       "    </tr>\n",
       "  </tbody>\n",
       "</table>\n",
       "</div>"
      ],
      "text/plain": [
       "   year ticker  month        open        high         low       close  \\\n",
       "0  1962    DIS    6.5   31.785422   32.108319   31.448197   31.738924   \n",
       "1  1962     GE    6.5   70.078108   70.686144   69.409325   70.067289   \n",
       "2  1962    IBM    6.5  433.777886  438.173561  429.226148  432.796064   \n",
       "3  1962     KO    6.5   86.729354   87.453027   85.882380   86.628268   \n",
       "4  1963    DIS    6.5   37.965352   38.369597   37.652577   37.983691   \n",
       "\n",
       "         volume        day  \n",
       "0   1525.447956  15.794723  \n",
       "1  17400.574926  15.794723  \n",
       "2  72424.927473  15.794723  \n",
       "3  28334.460790  15.794723  \n",
       "4   2708.405251  15.693402  "
      ]
     },
     "execution_count": 25,
     "metadata": {},
     "output_type": "execute_result"
    }
   ],
   "source": [
    "dF_year=dF_month.groupby(['year','ticker']).mean()\n",
    "dF_year=dF_year.reset_index()\n",
    "dF_year.head()"
   ]
  },
  {
   "cell_type": "code",
   "execution_count": 26,
   "metadata": {},
   "outputs": [
    {
     "name": "stdout",
     "output_type": "stream",
     "text": [
      "Create database: adbms\n"
     ]
    }
   ],
   "source": [
    "user = 'hoshang'\n",
    "password = 'test'\n",
    "dbname = 'adbms'\n",
    "host='localhost' \n",
    "port=8086\n",
    "# Temporarily avoid line protocol time conversion issues #412, #426, #431.\n",
    "protocol = 'json'\n",
    "client = InfluxDBClient(host, port, user, password, dbname)\n",
    "print(\"Create database: \" + dbname)\n",
    "#send_response(code, message=None) \n",
    "client.create_database(dbname)\n",
    "for i in range(0,len(dF_year)):\n",
    "    influx_metric = [{\n",
    "        'measurement': 'stocks_year',\n",
    "        'tags': {\n",
    "            'ticker': dF_year[\"ticker\"].iloc[i],\n",
    "        },\n",
    "        'time': str(dF_year[\"year\"].iloc[i])+\"-12-31\"+\"T00:00:00Z\",\n",
    "        'fields': {\n",
    "             'open': dF_year['open'].iloc[i],\n",
    "             'high': dF_year['high'].iloc[i], \n",
    "             'low' : dF_year['low'].iloc[i],\n",
    "             'close': dF_year['close'].iloc[i],\n",
    "             'volume' : dF_year['volume'].iloc[i],\n",
    "        }\n",
    "    }]\n",
    "    client.write_points(influx_metric)\n"
   ]
  },
  {
   "cell_type": "code",
   "execution_count": 28,
   "metadata": {
    "collapsed": true
   },
   "outputs": [],
   "source": [
    "codes=pd.read_csv(\"WIKI-codes.csv\")"
   ]
  },
  {
   "cell_type": "code",
   "execution_count": 29,
   "metadata": {},
   "outputs": [
    {
     "data": {
      "text/html": [
       "<div>\n",
       "<style>\n",
       "    .dataframe thead tr:only-child th {\n",
       "        text-align: right;\n",
       "    }\n",
       "\n",
       "    .dataframe thead th {\n",
       "        text-align: left;\n",
       "    }\n",
       "\n",
       "    .dataframe tbody tr th {\n",
       "        vertical-align: top;\n",
       "    }\n",
       "</style>\n",
       "<table border=\"1\" class=\"dataframe\">\n",
       "  <thead>\n",
       "    <tr style=\"text-align: right;\">\n",
       "      <th></th>\n",
       "      <th>WIKI/AAPL</th>\n",
       "      <th>Apple Inc (AAPL) Prices, Dividends, Splits and Trading Volume</th>\n",
       "    </tr>\n",
       "  </thead>\n",
       "  <tbody>\n",
       "    <tr>\n",
       "      <th>0</th>\n",
       "      <td>WIKI/ABC</td>\n",
       "      <td>AmerisourceBergen Corp. (ABC) Prices, Dividend...</td>\n",
       "    </tr>\n",
       "    <tr>\n",
       "      <th>1</th>\n",
       "      <td>WIKI/AA</td>\n",
       "      <td>Alcoa Inc. (AA) Prices, Dividends, Splits and ...</td>\n",
       "    </tr>\n",
       "    <tr>\n",
       "      <th>2</th>\n",
       "      <td>WIKI/ABBV</td>\n",
       "      <td>AbbVie Inc. (ABBV) Prices, Dividends, Splits a...</td>\n",
       "    </tr>\n",
       "    <tr>\n",
       "      <th>3</th>\n",
       "      <td>WIKI/ACE</td>\n",
       "      <td>ACE Ltd (ACE) Prices, Dividends, Splits and Tr...</td>\n",
       "    </tr>\n",
       "    <tr>\n",
       "      <th>4</th>\n",
       "      <td>WIKI/AGN</td>\n",
       "      <td>Allergan Inc. (AGN) Prices, Dividends, Splits ...</td>\n",
       "    </tr>\n",
       "  </tbody>\n",
       "</table>\n",
       "</div>"
      ],
      "text/plain": [
       "   WIKI/AAPL Apple Inc (AAPL) Prices, Dividends, Splits and Trading Volume\n",
       "0   WIKI/ABC  AmerisourceBergen Corp. (ABC) Prices, Dividend...           \n",
       "1    WIKI/AA  Alcoa Inc. (AA) Prices, Dividends, Splits and ...           \n",
       "2  WIKI/ABBV  AbbVie Inc. (ABBV) Prices, Dividends, Splits a...           \n",
       "3   WIKI/ACE  ACE Ltd (ACE) Prices, Dividends, Splits and Tr...           \n",
       "4   WIKI/AGN  Allergan Inc. (AGN) Prices, Dividends, Splits ...           "
      ]
     },
     "execution_count": 29,
     "metadata": {},
     "output_type": "execute_result"
    }
   ],
   "source": [
    "codes.head()"
   ]
  },
  {
   "cell_type": "code",
   "execution_count": 30,
   "metadata": {
    "collapsed": true
   },
   "outputs": [],
   "source": [
    "dF_avg=dF_year.groupby(\"ticker\").mean()"
   ]
  },
  {
   "cell_type": "code",
   "execution_count": 31,
   "metadata": {},
   "outputs": [
    {
     "data": {
      "text/html": [
       "<div>\n",
       "<style>\n",
       "    .dataframe thead tr:only-child th {\n",
       "        text-align: right;\n",
       "    }\n",
       "\n",
       "    .dataframe thead th {\n",
       "        text-align: left;\n",
       "    }\n",
       "\n",
       "    .dataframe tbody tr th {\n",
       "        vertical-align: top;\n",
       "    }\n",
       "</style>\n",
       "<table border=\"1\" class=\"dataframe\">\n",
       "  <thead>\n",
       "    <tr style=\"text-align: right;\">\n",
       "      <th></th>\n",
       "      <th>year</th>\n",
       "      <th>month</th>\n",
       "      <th>open</th>\n",
       "      <th>high</th>\n",
       "      <th>low</th>\n",
       "      <th>close</th>\n",
       "      <th>volume</th>\n",
       "      <th>day</th>\n",
       "    </tr>\n",
       "  </thead>\n",
       "  <tbody>\n",
       "    <tr>\n",
       "      <th>count</th>\n",
       "      <td>47.000000</td>\n",
       "      <td>47.000000</td>\n",
       "      <td>47.000000</td>\n",
       "      <td>47.000000</td>\n",
       "      <td>47.000000</td>\n",
       "      <td>47.000000</td>\n",
       "      <td>4.700000e+01</td>\n",
       "      <td>47.000000</td>\n",
       "    </tr>\n",
       "    <tr>\n",
       "      <th>mean</th>\n",
       "      <td>2001.138298</td>\n",
       "      <td>6.393640</td>\n",
       "      <td>83.056340</td>\n",
       "      <td>83.927813</td>\n",
       "      <td>82.160062</td>\n",
       "      <td>83.068552</td>\n",
       "      <td>9.177283e+06</td>\n",
       "      <td>15.672918</td>\n",
       "    </tr>\n",
       "    <tr>\n",
       "      <th>std</th>\n",
       "      <td>7.366716</td>\n",
       "      <td>0.161788</td>\n",
       "      <td>87.953494</td>\n",
       "      <td>88.799159</td>\n",
       "      <td>87.045361</td>\n",
       "      <td>87.940053</td>\n",
       "      <td>1.158733e+07</td>\n",
       "      <td>0.122617</td>\n",
       "    </tr>\n",
       "    <tr>\n",
       "      <th>min</th>\n",
       "      <td>1990.000000</td>\n",
       "      <td>5.500000</td>\n",
       "      <td>29.311973</td>\n",
       "      <td>29.593651</td>\n",
       "      <td>29.008505</td>\n",
       "      <td>29.315442</td>\n",
       "      <td>1.674697e+05</td>\n",
       "      <td>15.230157</td>\n",
       "    </tr>\n",
       "    <tr>\n",
       "      <th>25%</th>\n",
       "      <td>1995.000000</td>\n",
       "      <td>6.392857</td>\n",
       "      <td>50.594126</td>\n",
       "      <td>51.296291</td>\n",
       "      <td>49.859219</td>\n",
       "      <td>50.573405</td>\n",
       "      <td>2.869482e+06</td>\n",
       "      <td>15.666615</td>\n",
       "    </tr>\n",
       "    <tr>\n",
       "      <th>50%</th>\n",
       "      <td>2001.000000</td>\n",
       "      <td>6.421053</td>\n",
       "      <td>63.317784</td>\n",
       "      <td>63.856577</td>\n",
       "      <td>62.790028</td>\n",
       "      <td>63.343575</td>\n",
       "      <td>4.705490e+06</td>\n",
       "      <td>15.677023</td>\n",
       "    </tr>\n",
       "    <tr>\n",
       "      <th>75%</th>\n",
       "      <td>2005.500000</td>\n",
       "      <td>6.457447</td>\n",
       "      <td>78.105080</td>\n",
       "      <td>78.776593</td>\n",
       "      <td>77.470353</td>\n",
       "      <td>78.139530</td>\n",
       "      <td>9.293489e+06</td>\n",
       "      <td>15.683654</td>\n",
       "    </tr>\n",
       "    <tr>\n",
       "      <th>max</th>\n",
       "      <td>2017.500000</td>\n",
       "      <td>6.538462</td>\n",
       "      <td>604.635975</td>\n",
       "      <td>610.334522</td>\n",
       "      <td>598.481374</td>\n",
       "      <td>604.490573</td>\n",
       "      <td>5.019737e+07</td>\n",
       "      <td>16.058197</td>\n",
       "    </tr>\n",
       "  </tbody>\n",
       "</table>\n",
       "</div>"
      ],
      "text/plain": [
       "              year      month        open        high         low       close  \\\n",
       "count    47.000000  47.000000   47.000000   47.000000   47.000000   47.000000   \n",
       "mean   2001.138298   6.393640   83.056340   83.927813   82.160062   83.068552   \n",
       "std       7.366716   0.161788   87.953494   88.799159   87.045361   87.940053   \n",
       "min    1990.000000   5.500000   29.311973   29.593651   29.008505   29.315442   \n",
       "25%    1995.000000   6.392857   50.594126   51.296291   49.859219   50.573405   \n",
       "50%    2001.000000   6.421053   63.317784   63.856577   62.790028   63.343575   \n",
       "75%    2005.500000   6.457447   78.105080   78.776593   77.470353   78.139530   \n",
       "max    2017.500000   6.538462  604.635975  610.334522  598.481374  604.490573   \n",
       "\n",
       "             volume        day  \n",
       "count  4.700000e+01  47.000000  \n",
       "mean   9.177283e+06  15.672918  \n",
       "std    1.158733e+07   0.122617  \n",
       "min    1.674697e+05  15.230157  \n",
       "25%    2.869482e+06  15.666615  \n",
       "50%    4.705490e+06  15.677023  \n",
       "75%    9.293489e+06  15.683654  \n",
       "max    5.019737e+07  16.058197  "
      ]
     },
     "execution_count": 31,
     "metadata": {},
     "output_type": "execute_result"
    }
   ],
   "source": [
    "dF_avg=dF_avg.reset_index()\n",
    "dF_avg.describe()"
   ]
  },
  {
   "cell_type": "code",
   "execution_count": 32,
   "metadata": {},
   "outputs": [
    {
     "name": "stdout",
     "output_type": "stream",
     "text": [
      "Create database: adbms\n"
     ]
    }
   ],
   "source": [
    "user = 'hoshang'\n",
    "password = 'test'\n",
    "dbname = 'adbms'\n",
    "host='localhost' \n",
    "port=8086\n",
    "# Temporarily avoid line protocol time conversion issues #412, #426, #431.\n",
    "protocol = 'json'\n",
    "client = InfluxDBClient(host, port, user, password, dbname)\n",
    "print(\"Create database: \" + dbname)\n",
    "#send_response(code, message=None) \n",
    "client.create_database(dbname)\n",
    "for i in range(0,len(dF_avg)):\n",
    "    influx_metric = [{\n",
    "        'measurement': 'stocks_avg',\n",
    "        'tags': {\n",
    "            'ticker': dF_avg[\"ticker\"].iloc[i],\n",
    "        },\n",
    "        'time': str(\"2018-04-14\"+\"T00:00:00Z\"),\n",
    "        'fields': {\n",
    "            'open': dF_avg['open'].iloc[i],\n",
    "            'high': dF_avg['high'].iloc[i], \n",
    "            'low' : dF_avg['low'].iloc[i],\n",
    "            'close': dF_avg['close'].iloc[i],\n",
    "            'volume' : dF_avg['volume'].iloc[i],\n",
    "        }\n",
    "    }]\n",
    "    client.write_points(influx_metric)\n",
    "\n"
   ]
  },
  {
   "cell_type": "code",
   "execution_count": 33,
   "metadata": {},
   "outputs": [
    {
     "data": {
      "text/html": [
       "<div>\n",
       "<style>\n",
       "    .dataframe thead tr:only-child th {\n",
       "        text-align: right;\n",
       "    }\n",
       "\n",
       "    .dataframe thead th {\n",
       "        text-align: left;\n",
       "    }\n",
       "\n",
       "    .dataframe tbody tr th {\n",
       "        vertical-align: top;\n",
       "    }\n",
       "</style>\n",
       "<table border=\"1\" class=\"dataframe\">\n",
       "  <thead>\n",
       "    <tr style=\"text-align: right;\">\n",
       "      <th></th>\n",
       "      <th>ticker</th>\n",
       "      <th>investorname</th>\n",
       "      <th>securitytype</th>\n",
       "      <th>calendardate</th>\n",
       "      <th>value</th>\n",
       "      <th>units</th>\n",
       "      <th>price</th>\n",
       "    </tr>\n",
       "  </thead>\n",
       "  <tbody>\n",
       "    <tr>\n",
       "      <th>0</th>\n",
       "      <td>AAPL</td>\n",
       "      <td>VANGUARD GROUP INC</td>\n",
       "      <td>SHR</td>\n",
       "      <td>31-12-2015</td>\n",
       "      <td>33995618000</td>\n",
       "      <td>322968066</td>\n",
       "      <td>105</td>\n",
       "    </tr>\n",
       "    <tr>\n",
       "      <th>1</th>\n",
       "      <td>MSFT</td>\n",
       "      <td>VANGUARD GROUP INC</td>\n",
       "      <td>SHR</td>\n",
       "      <td>31-12-2015</td>\n",
       "      <td>26926432000</td>\n",
       "      <td>485335822</td>\n",
       "      <td>55</td>\n",
       "    </tr>\n",
       "    <tr>\n",
       "      <th>2</th>\n",
       "      <td>GOOGL</td>\n",
       "      <td>VANGUARD GROUP INC</td>\n",
       "      <td>SHR</td>\n",
       "      <td>31-12-2015</td>\n",
       "      <td>26700650000</td>\n",
       "      <td>34749269</td>\n",
       "      <td>768</td>\n",
       "    </tr>\n",
       "    <tr>\n",
       "      <th>3</th>\n",
       "      <td>GOOGL</td>\n",
       "      <td>FMR LLC</td>\n",
       "      <td>SHR</td>\n",
       "      <td>31-12-2015</td>\n",
       "      <td>26299708000</td>\n",
       "      <td>34194455</td>\n",
       "      <td>769</td>\n",
       "    </tr>\n",
       "    <tr>\n",
       "      <th>4</th>\n",
       "      <td>WFC</td>\n",
       "      <td>BERKSHIRE HATHAWAY INC</td>\n",
       "      <td>SHR</td>\n",
       "      <td>31-12-2015</td>\n",
       "      <td>26076724000</td>\n",
       "      <td>479704270</td>\n",
       "      <td>54</td>\n",
       "    </tr>\n",
       "  </tbody>\n",
       "</table>\n",
       "</div>"
      ],
      "text/plain": [
       "  ticker            investorname securitytype calendardate        value  \\\n",
       "0   AAPL      VANGUARD GROUP INC          SHR   31-12-2015  33995618000   \n",
       "1   MSFT      VANGUARD GROUP INC          SHR   31-12-2015  26926432000   \n",
       "2  GOOGL      VANGUARD GROUP INC          SHR   31-12-2015  26700650000   \n",
       "3  GOOGL                 FMR LLC          SHR   31-12-2015  26299708000   \n",
       "4    WFC  BERKSHIRE HATHAWAY INC          SHR   31-12-2015  26076724000   \n",
       "\n",
       "       units  price  \n",
       "0  322968066    105  \n",
       "1  485335822     55  \n",
       "2   34749269    768  \n",
       "3   34194455    769  \n",
       "4  479704270     54  "
      ]
     },
     "execution_count": 33,
     "metadata": {},
     "output_type": "execute_result"
    }
   ],
   "source": [
    "investor=pd.read_csv(\"investor.csv\")\n",
    "investor.head()"
   ]
  },
  {
   "cell_type": "code",
   "execution_count": 34,
   "metadata": {},
   "outputs": [
    {
     "name": "stdout",
     "output_type": "stream",
     "text": [
      "Create database: adbms\n"
     ]
    }
   ],
   "source": [
    "user = 'hoshang'\n",
    "password = 'test'\n",
    "dbname = 'adbms'\n",
    "host='localhost' \n",
    "port=8086\n",
    "# Temporarily avoid line protocol time conversion issues #412, #426, #431.\n",
    "protocol = 'json'\n",
    "client = InfluxDBClient(host, port, user, password, dbname)\n",
    "print(\"Create database: \" + dbname)\n",
    "#send_response(code, message=None) \n",
    "client.create_database(dbname)\n",
    "for i in range(0,len(investor)):\n",
    "    influx_metric = [{\n",
    "        'measurement': 'investor',\n",
    "        'tags': {\n",
    "            'id': investor.index[i],\n",
    "            'ticker': investor['ticker'].iloc[i],\n",
    "            'investorname': investor['investorname'].iloc[i],\n",
    "        },\n",
    "        'time': str(\"2015-12-31\"+\"T00:00:00Z\"),\n",
    "        'fields': {\n",
    "            'securitytype': investor['securitytype'].iloc[i], \n",
    "            'value': investor['value'].iloc[i],\n",
    "            'units' : investor['units'].iloc[i],\n",
    "            'price' : investor['price'].iloc[i]\n",
    "        }\n",
    "    }]\n",
    "    client.write_points(influx_metric)\n",
    "\n",
    "\n"
   ]
  },
  {
   "cell_type": "markdown",
   "metadata": {},
   "source": [
    "# Fact table- GroupBy \"ticker\" and \"investorname\""
   ]
  },
  {
   "cell_type": "code",
   "execution_count": 35,
   "metadata": {
    "collapsed": true
   },
   "outputs": [],
   "source": [
    "investor1=investor.groupby(\"ticker\").agg({'investorname': 'count','value':'sum','units':'sum'}).reset_index().rename(columns={'ticker':'ticker','investorname':'number_of_investors','value':'total_value','units':'total_units'})"
   ]
  },
  {
   "cell_type": "code",
   "execution_count": 36,
   "metadata": {},
   "outputs": [
    {
     "data": {
      "text/plain": [
       "Index(['ticker', 'number_of_investors', 'total_value', 'total_units'], dtype='object')"
      ]
     },
     "execution_count": 36,
     "metadata": {},
     "output_type": "execute_result"
    }
   ],
   "source": [
    "investor1.columns"
   ]
  },
  {
   "cell_type": "code",
   "execution_count": 37,
   "metadata": {},
   "outputs": [
    {
     "data": {
      "text/plain": [
       "1199"
      ]
     },
     "execution_count": 37,
     "metadata": {},
     "output_type": "execute_result"
    }
   ],
   "source": [
    "len(pd.unique(investor[\"ticker\"]))"
   ]
  },
  {
   "cell_type": "code",
   "execution_count": 38,
   "metadata": {},
   "outputs": [
    {
     "data": {
      "text/html": [
       "<div>\n",
       "<style>\n",
       "    .dataframe thead tr:only-child th {\n",
       "        text-align: right;\n",
       "    }\n",
       "\n",
       "    .dataframe thead th {\n",
       "        text-align: left;\n",
       "    }\n",
       "\n",
       "    .dataframe tbody tr th {\n",
       "        vertical-align: top;\n",
       "    }\n",
       "</style>\n",
       "<table border=\"1\" class=\"dataframe\">\n",
       "  <thead>\n",
       "    <tr style=\"text-align: right;\">\n",
       "      <th></th>\n",
       "      <th>ticker</th>\n",
       "      <th>number_of_investors</th>\n",
       "      <th>total_value</th>\n",
       "      <th>total_units</th>\n",
       "    </tr>\n",
       "  </thead>\n",
       "  <tbody>\n",
       "    <tr>\n",
       "      <th>0</th>\n",
       "      <td>A</td>\n",
       "      <td>8</td>\n",
       "      <td>5154263000</td>\n",
       "      <td>123278092</td>\n",
       "    </tr>\n",
       "    <tr>\n",
       "      <th>1</th>\n",
       "      <td>AABA</td>\n",
       "      <td>11</td>\n",
       "      <td>8100122000</td>\n",
       "      <td>243539496</td>\n",
       "    </tr>\n",
       "    <tr>\n",
       "      <th>2</th>\n",
       "      <td>AAL</td>\n",
       "      <td>8</td>\n",
       "      <td>9063607000</td>\n",
       "      <td>214016600</td>\n",
       "    </tr>\n",
       "    <tr>\n",
       "      <th>3</th>\n",
       "      <td>AAP</td>\n",
       "      <td>5</td>\n",
       "      <td>3444103000</td>\n",
       "      <td>22883003</td>\n",
       "    </tr>\n",
       "    <tr>\n",
       "      <th>4</th>\n",
       "      <td>AAPL</td>\n",
       "      <td>163</td>\n",
       "      <td>314074298802</td>\n",
       "      <td>2983068638</td>\n",
       "    </tr>\n",
       "  </tbody>\n",
       "</table>\n",
       "</div>"
      ],
      "text/plain": [
       "  ticker  number_of_investors   total_value  total_units\n",
       "0      A                    8    5154263000    123278092\n",
       "1   AABA                   11    8100122000    243539496\n",
       "2    AAL                    8    9063607000    214016600\n",
       "3    AAP                    5    3444103000     22883003\n",
       "4   AAPL                  163  314074298802   2983068638"
      ]
     },
     "execution_count": 38,
     "metadata": {},
     "output_type": "execute_result"
    }
   ],
   "source": [
    "investor1.head()"
   ]
  },
  {
   "cell_type": "code",
   "execution_count": 39,
   "metadata": {
    "collapsed": true
   },
   "outputs": [],
   "source": [
    "investor1.to_csv(\"fact1.csv\")"
   ]
  },
  {
   "cell_type": "code",
   "execution_count": 40,
   "metadata": {
    "collapsed": true
   },
   "outputs": [],
   "source": [
    "investor2=investor.groupby('investorname').agg({'ticker':'count', 'value': 'sum','units':'sum'}).reset_index().rename(columns={'ticker':'No_of_Ticker','value':'Total_value_invested','units':'Total_Units'})"
   ]
  },
  {
   "cell_type": "code",
   "execution_count": 41,
   "metadata": {},
   "outputs": [
    {
     "data": {
      "text/plain": [
       "518"
      ]
     },
     "execution_count": 41,
     "metadata": {},
     "output_type": "execute_result"
    }
   ],
   "source": [
    "len(pd.unique(investor[\"investorname\"]))"
   ]
  },
  {
   "cell_type": "code",
   "execution_count": 42,
   "metadata": {},
   "outputs": [
    {
     "data": {
      "text/plain": [
       "518"
      ]
     },
     "execution_count": 42,
     "metadata": {},
     "output_type": "execute_result"
    }
   ],
   "source": [
    "len(investor2[\"investorname\"])"
   ]
  },
  {
   "cell_type": "code",
   "execution_count": 43,
   "metadata": {
    "collapsed": true
   },
   "outputs": [],
   "source": [
    "investor2.to_csv(\"fact2.csv\")"
   ]
  },
  {
   "cell_type": "code",
   "execution_count": 44,
   "metadata": {},
   "outputs": [
    {
     "data": {
      "text/html": [
       "<div>\n",
       "<style>\n",
       "    .dataframe thead tr:only-child th {\n",
       "        text-align: right;\n",
       "    }\n",
       "\n",
       "    .dataframe thead th {\n",
       "        text-align: left;\n",
       "    }\n",
       "\n",
       "    .dataframe tbody tr th {\n",
       "        vertical-align: top;\n",
       "    }\n",
       "</style>\n",
       "<table border=\"1\" class=\"dataframe\">\n",
       "  <thead>\n",
       "    <tr style=\"text-align: right;\">\n",
       "      <th></th>\n",
       "      <th>investorname</th>\n",
       "      <th>No_of_Ticker</th>\n",
       "      <th>Total_value_invested</th>\n",
       "      <th>Total_Units</th>\n",
       "    </tr>\n",
       "  </thead>\n",
       "  <tbody>\n",
       "    <tr>\n",
       "      <th>0</th>\n",
       "      <td>1832 ASSET MANAGEMENT LP</td>\n",
       "      <td>15</td>\n",
       "      <td>7206330000</td>\n",
       "      <td>149688779</td>\n",
       "    </tr>\n",
       "    <tr>\n",
       "      <th>1</th>\n",
       "      <td>3I INVESTMENTS PLC</td>\n",
       "      <td>1</td>\n",
       "      <td>426276000</td>\n",
       "      <td>6208501</td>\n",
       "    </tr>\n",
       "    <tr>\n",
       "      <th>2</th>\n",
       "      <td>ABERDEEN ASSET MANAGEMENT PLC</td>\n",
       "      <td>22</td>\n",
       "      <td>16685517000</td>\n",
       "      <td>673683855</td>\n",
       "    </tr>\n",
       "    <tr>\n",
       "      <th>3</th>\n",
       "      <td>ABRAMS CAPITAL MANAGEMENT LP</td>\n",
       "      <td>1</td>\n",
       "      <td>387012000</td>\n",
       "      <td>21608707</td>\n",
       "    </tr>\n",
       "    <tr>\n",
       "      <th>4</th>\n",
       "      <td>ACADIAN ASSET MANAGEMENT LLC</td>\n",
       "      <td>2</td>\n",
       "      <td>749268000</td>\n",
       "      <td>23143102</td>\n",
       "    </tr>\n",
       "  </tbody>\n",
       "</table>\n",
       "</div>"
      ],
      "text/plain": [
       "                    investorname  No_of_Ticker  Total_value_invested  \\\n",
       "0       1832 ASSET MANAGEMENT LP            15            7206330000   \n",
       "1             3I INVESTMENTS PLC             1             426276000   \n",
       "2  ABERDEEN ASSET MANAGEMENT PLC            22           16685517000   \n",
       "3   ABRAMS CAPITAL MANAGEMENT LP             1             387012000   \n",
       "4   ACADIAN ASSET MANAGEMENT LLC             2             749268000   \n",
       "\n",
       "   Total_Units  \n",
       "0    149688779  \n",
       "1      6208501  \n",
       "2    673683855  \n",
       "3     21608707  \n",
       "4     23143102  "
      ]
     },
     "execution_count": 44,
     "metadata": {},
     "output_type": "execute_result"
    }
   ],
   "source": [
    "investor2.head()"
   ]
  },
  {
   "cell_type": "markdown",
   "metadata": {},
   "source": [
    "# Loading fact tables into influx"
   ]
  },
  {
   "cell_type": "code",
   "execution_count": 45,
   "metadata": {},
   "outputs": [
    {
     "name": "stdout",
     "output_type": "stream",
     "text": [
      "Create database: adbms\n"
     ]
    }
   ],
   "source": [
    "user = 'hoshang'\n",
    "password = 'test'\n",
    "dbname = 'adbms'\n",
    "host='localhost' \n",
    "port=8086\n",
    "# Temporarily avoid line protocol time conversion issues #412, #426, #431.\n",
    "protocol = 'json'\n",
    "client = InfluxDBClient(host, port, user, password, dbname)\n",
    "print(\"Create database: \" + dbname)\n",
    "#send_response(code, message=None) \n",
    "client.create_database(dbname)\n",
    "for i in range(0,len(investor1)):\n",
    "    influx_metric = [{\n",
    "        'measurement': 'investor_fact1',\n",
    "        'tags': {\n",
    "            'id': i,\n",
    "            'ticker': investor1['ticker'].iloc[i],\n",
    "            \n",
    "        },\n",
    "        'time': str(\"2015-12-31\"+\"T00:00:00Z\"),\n",
    "        'fields': {\n",
    "            'investorname': investor1['number_of_investors'].iloc[i],\n",
    "            'total_value': investor1['total_value'].iloc[i], \n",
    "            'total_units': investor1['total_units'].iloc[i],\n",
    "        }\n",
    "    }]\n",
    "    client.write_points(influx_metric)\n",
    "\n"
   ]
  },
  {
   "cell_type": "code",
   "execution_count": 46,
   "metadata": {},
   "outputs": [
    {
     "name": "stdout",
     "output_type": "stream",
     "text": [
      "Create database: adbms\n"
     ]
    }
   ],
   "source": [
    "user = 'hoshang'\n",
    "password = 'test'\n",
    "dbname = 'adbms'\n",
    "host='localhost' \n",
    "port=8086\n",
    "# Temporarily avoid line protocol time conversion issues #412, #426, #431.\n",
    "protocol = 'json'\n",
    "client = InfluxDBClient(host, port, user, password, dbname)\n",
    "print(\"Create database: \" + dbname)\n",
    "#send_response(code, message=None) \n",
    "client.create_database(dbname)\n",
    "for i in range(0,len(investor2)):\n",
    "    influx_metric = [{\n",
    "        'measurement': 'investor_fact2',\n",
    "        'tags': {\n",
    "            'id': i,\n",
    "            'investorname': investor2['investorname'].iloc[i],\n",
    "            \n",
    "        },\n",
    "        'time': str(\"2015-12-31\"+\"T00:00:00Z\"),\n",
    "        'fields': {\n",
    "            'No_of_Ticker': investor2['No_of_Ticker'].iloc[i],\n",
    "            'Total_value_invested': investor2['Total_value_invested'].iloc[i], \n",
    "            'Total_Units': investor2['Total_Units'].iloc[i],\n",
    "        }\n",
    "    }]\n",
    "    client.write_points(influx_metric)\n"
   ]
  }
 ],
 "metadata": {
  "kernelspec": {
   "display_name": "Python 3",
   "language": "python",
   "name": "python3"
  },
  "language_info": {
   "codemirror_mode": {
    "name": "ipython",
    "version": 3
   },
   "file_extension": ".py",
   "mimetype": "text/x-python",
   "name": "python",
   "nbconvert_exporter": "python",
   "pygments_lexer": "ipython3",
   "version": "3.6.3"
  }
 },
 "nbformat": 4,
 "nbformat_minor": 2
}
